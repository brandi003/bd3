{
 "cells": [
  {
   "cell_type": "code",
   "execution_count": 2,
   "metadata": {},
   "outputs": [],
   "source": [
    "import networkx as nx\n",
    "import os\n",
    "from random import sample"
   ]
  },
  {
   "cell_type": "code",
   "execution_count": 3,
   "metadata": {},
   "outputs": [
    {
     "name": "stdout",
     "output_type": "stream",
     "text": [
      "[97, 84, 82, 88, 80, 91, 93, 86, 96, 90]\n"
     ]
    }
   ],
   "source": [
    "contagiados=open(\"../repositorios github/Datos-COVID19/output/producto1/Covid-19.csv\",'r')\n",
    "muertes=open(\"../repositorios github/Datos-COVID19/output/producto38/CasosFallecidosPorComuna.csv\",'r')\n",
    "datos_contagiados=(contagiados.readlines())\n",
    "datos_muertes=(muertes.readlines())\n",
    "#en 5 empiezan las fechas\n",
    "#en 4 esta la poblacion\n",
    "datos=list()\n",
    "#cabecera\n",
    "separacion=datos_contagiados[0].split(',')\n",
    "aux=[separacion[2],str(separacion[4])]\n",
    "cont=0\n",
    "for i in separacion:\n",
    "    if(i=='Tasa\\n'):\n",
    "        break\n",
    "    if(cont<5):\n",
    "        cont=cont+1\n",
    "        continue\n",
    "    else:\n",
    "        aux.append(i)\n",
    "datos.append(aux)\n",
    "#contenido de la lista \n",
    "flag=True\n",
    "contador=0\n",
    "\n",
    "for j in datos_contagiados:\n",
    "    if(flag):\n",
    "        flag=False\n",
    "        contador=contador+1\n",
    "        continue\n",
    "    if(j.split(',')[4]==\"\"):\n",
    "        contador=contador+1\n",
    "        continue\n",
    "    else:\n",
    "        separacion=j.split(',')\n",
    "        aux=[separacion[2],str(separacion[4])]\n",
    "        cont=0\n",
    "        suma_contagiados=0\n",
    "        suma_muertes=0\n",
    "        for i in separacion:\n",
    "            if(i=='Tasa\\n'):\n",
    "                break\n",
    "            if(cont<5):\n",
    "                cont=cont+1\n",
    "                continue\n",
    "            else:\n",
    "                try:\n",
    "                    fecha=datos[0][cont-3]\n",
    "                except Exception as e:\n",
    "                    break\n",
    "                if(fecha=='Tasa\\n'):\n",
    "                    break\n",
    "                try:\n",
    "                    indice=datos_muertes[0].split(',').index(fecha)\n",
    "                    n_muertes=float(datos_muertes[contador].split(',')[indice])\n",
    "                except Exception as e:\n",
    "                    n_muertes=0\n",
    "                if(i==\"\"):\n",
    "                    i=0\n",
    "                valcontagio=float(i)-suma_contagiados\n",
    "                if(valcontagio<=0):\n",
    "                    valcontagio=0\n",
    "                val_muertes=n_muertes-suma_muertes\n",
    "                if(val_muertes<=0):\n",
    "                    val_muertes=0\n",
    "                recuperados=valcontagio-val_muertes\n",
    "                cont=cont+1\n",
    "                aux.append([int(valcontagio),int(val_muertes)])\n",
    "                suma_contagiados=float(i)\n",
    "                suma_muertes=n_muertes\n",
    "    contador=contador+1\n",
    "    aux.pop(len(aux)-1)\n",
    "    datos.append(aux)\n",
    "    \n",
    "\n",
    "#for i in datos:\n",
    "#    print(i)\n",
    "print(sample([x for x in range(80,100)],10))"
   ]
  },
  {
   "cell_type": "code",
   "execution_count": 17,
   "metadata": {},
   "outputs": [],
   "source": [
    "def listarandom(contagios,muertos,G):\n",
    "    nodos_contagiados=list()\n",
    "    for i in range(0,len(G)-1):\n",
    "        if (G.nodes[i]['infected']>0 and G.nodes[i]['infected']<11):\n",
    "            nodos_contagiados.append(node)\n",
    "    print(nodos_contagiados)\n",
    "        "
   ]
  },
  {
   "cell_type": "code",
   "execution_count": 18,
   "metadata": {},
   "outputs": [
    {
     "name": "stdout",
     "output_type": "stream",
     "text": [
      "fecha=2020-03-30;contagiados=6;muertos=0;Comuna=Arica\n"
     ]
    },
    {
     "ename": "NameError",
     "evalue": "name 'node' is not defined",
     "output_type": "error",
     "traceback": [
      "\u001b[1;31m---------------------------------------------------------------------------\u001b[0m",
      "\u001b[1;31mNameError\u001b[0m                                 Traceback (most recent call last)",
      "\u001b[1;32m<ipython-input-18-05ba70c2bb8f>\u001b[0m in \u001b[0;36m<module>\u001b[1;34m\u001b[0m\n\u001b[0;32m     19\u001b[0m     \u001b[1;32mfor\u001b[0m \u001b[0mj\u001b[0m \u001b[1;32min\u001b[0m \u001b[0mrange\u001b[0m\u001b[1;33m(\u001b[0m\u001b[1;36m0\u001b[0m\u001b[1;33m,\u001b[0m\u001b[0mlen\u001b[0m\u001b[1;33m(\u001b[0m\u001b[0mfechas\u001b[0m\u001b[1;33m)\u001b[0m\u001b[1;33m-\u001b[0m\u001b[1;36m1\u001b[0m\u001b[1;33m)\u001b[0m\u001b[1;33m:\u001b[0m\u001b[1;33m\u001b[0m\u001b[1;33m\u001b[0m\u001b[0m\n\u001b[0;32m     20\u001b[0m         \u001b[0mprint\u001b[0m\u001b[1;33m(\u001b[0m\u001b[1;34m\"fecha=\"\u001b[0m\u001b[1;33m+\u001b[0m\u001b[0mstr\u001b[0m\u001b[1;33m(\u001b[0m\u001b[0mfechas\u001b[0m\u001b[1;33m[\u001b[0m\u001b[0mj\u001b[0m\u001b[1;33m]\u001b[0m\u001b[1;33m)\u001b[0m\u001b[1;33m+\u001b[0m\u001b[1;34m\";contagiados=\"\u001b[0m\u001b[1;33m+\u001b[0m\u001b[0mstr\u001b[0m\u001b[1;33m(\u001b[0m\u001b[0mdatos\u001b[0m\u001b[1;33m[\u001b[0m\u001b[0mi\u001b[0m\u001b[1;33m]\u001b[0m\u001b[1;33m[\u001b[0m\u001b[0mj\u001b[0m\u001b[1;33m+\u001b[0m\u001b[1;36m2\u001b[0m\u001b[1;33m]\u001b[0m\u001b[1;33m[\u001b[0m\u001b[1;36m0\u001b[0m\u001b[1;33m]\u001b[0m\u001b[1;33m)\u001b[0m\u001b[1;33m+\u001b[0m\u001b[1;34m\";muertos=\"\u001b[0m\u001b[1;33m+\u001b[0m\u001b[0mstr\u001b[0m\u001b[1;33m(\u001b[0m\u001b[0mdatos\u001b[0m\u001b[1;33m[\u001b[0m\u001b[0mi\u001b[0m\u001b[1;33m]\u001b[0m\u001b[1;33m[\u001b[0m\u001b[0mj\u001b[0m\u001b[1;33m+\u001b[0m\u001b[1;36m2\u001b[0m\u001b[1;33m]\u001b[0m\u001b[1;33m[\u001b[0m\u001b[1;36m1\u001b[0m\u001b[1;33m]\u001b[0m\u001b[1;33m)\u001b[0m\u001b[1;33m+\u001b[0m\u001b[1;34m\";Comuna=\"\u001b[0m\u001b[1;33m+\u001b[0m\u001b[0mstr\u001b[0m\u001b[1;33m(\u001b[0m\u001b[0mdatos\u001b[0m\u001b[1;33m[\u001b[0m\u001b[0mi\u001b[0m\u001b[1;33m]\u001b[0m\u001b[1;33m[\u001b[0m\u001b[1;36m0\u001b[0m\u001b[1;33m]\u001b[0m\u001b[1;33m)\u001b[0m\u001b[1;33m)\u001b[0m\u001b[1;33m\u001b[0m\u001b[1;33m\u001b[0m\u001b[0m\n\u001b[1;32m---> 21\u001b[1;33m         \u001b[0mlistarandom\u001b[0m\u001b[1;33m(\u001b[0m\u001b[0mdatos\u001b[0m\u001b[1;33m[\u001b[0m\u001b[0mi\u001b[0m\u001b[1;33m]\u001b[0m\u001b[1;33m[\u001b[0m\u001b[0mj\u001b[0m\u001b[1;33m+\u001b[0m\u001b[1;36m2\u001b[0m\u001b[1;33m]\u001b[0m\u001b[1;33m[\u001b[0m\u001b[1;36m0\u001b[0m\u001b[1;33m]\u001b[0m\u001b[1;33m,\u001b[0m\u001b[0mdatos\u001b[0m\u001b[1;33m[\u001b[0m\u001b[0mi\u001b[0m\u001b[1;33m]\u001b[0m\u001b[1;33m[\u001b[0m\u001b[0mj\u001b[0m\u001b[1;33m+\u001b[0m\u001b[1;36m2\u001b[0m\u001b[1;33m]\u001b[0m\u001b[1;33m[\u001b[0m\u001b[1;36m1\u001b[0m\u001b[1;33m]\u001b[0m\u001b[1;33m,\u001b[0m\u001b[0mG\u001b[0m\u001b[1;33m)\u001b[0m\u001b[1;33m\u001b[0m\u001b[1;33m\u001b[0m\u001b[0m\n\u001b[0m\u001b[0;32m     22\u001b[0m         \u001b[1;32mbreak\u001b[0m\u001b[1;33m\u001b[0m\u001b[1;33m\u001b[0m\u001b[0m\n\u001b[0;32m     23\u001b[0m         \u001b[1;31m#funcion para guardar del pato\u001b[0m\u001b[1;33m\u001b[0m\u001b[1;33m\u001b[0m\u001b[1;33m\u001b[0m\u001b[0m\n",
      "\u001b[1;32m<ipython-input-17-4a255b6d4eb2>\u001b[0m in \u001b[0;36mlistarandom\u001b[1;34m(contagios, muertos, G)\u001b[0m\n\u001b[0;32m      2\u001b[0m     \u001b[0mnodos_contagiados\u001b[0m\u001b[1;33m=\u001b[0m\u001b[0mlist\u001b[0m\u001b[1;33m(\u001b[0m\u001b[1;33m)\u001b[0m\u001b[1;33m\u001b[0m\u001b[1;33m\u001b[0m\u001b[0m\n\u001b[0;32m      3\u001b[0m     \u001b[1;32mfor\u001b[0m \u001b[0mi\u001b[0m \u001b[1;32min\u001b[0m \u001b[0mrange\u001b[0m\u001b[1;33m(\u001b[0m\u001b[1;36m0\u001b[0m\u001b[1;33m,\u001b[0m\u001b[0mlen\u001b[0m\u001b[1;33m(\u001b[0m\u001b[0mG\u001b[0m\u001b[1;33m)\u001b[0m\u001b[1;33m-\u001b[0m\u001b[1;36m1\u001b[0m\u001b[1;33m)\u001b[0m\u001b[1;33m:\u001b[0m\u001b[1;33m\u001b[0m\u001b[1;33m\u001b[0m\u001b[0m\n\u001b[1;32m----> 4\u001b[1;33m         \u001b[1;32mif\u001b[0m \u001b[1;33m(\u001b[0m\u001b[0mnode\u001b[0m\u001b[1;33m[\u001b[0m\u001b[0mi\u001b[0m\u001b[1;33m]\u001b[0m\u001b[1;33m[\u001b[0m\u001b[1;34m'infected'\u001b[0m\u001b[1;33m]\u001b[0m\u001b[1;33m>\u001b[0m\u001b[1;36m0\u001b[0m \u001b[1;32mand\u001b[0m \u001b[0mnode\u001b[0m\u001b[1;33m[\u001b[0m\u001b[0mi\u001b[0m\u001b[1;33m]\u001b[0m\u001b[1;33m[\u001b[0m\u001b[1;34m'infected'\u001b[0m\u001b[1;33m]\u001b[0m\u001b[1;33m<\u001b[0m\u001b[1;36m11\u001b[0m\u001b[1;33m)\u001b[0m\u001b[1;33m:\u001b[0m\u001b[1;33m\u001b[0m\u001b[1;33m\u001b[0m\u001b[0m\n\u001b[0m\u001b[0;32m      5\u001b[0m             \u001b[0mnodos_contagiados\u001b[0m\u001b[1;33m.\u001b[0m\u001b[0mappend\u001b[0m\u001b[1;33m(\u001b[0m\u001b[0mnode\u001b[0m\u001b[1;33m)\u001b[0m\u001b[1;33m\u001b[0m\u001b[1;33m\u001b[0m\u001b[0m\n\u001b[0;32m      6\u001b[0m     \u001b[0mprint\u001b[0m\u001b[1;33m(\u001b[0m\u001b[0mnodos_contagiados\u001b[0m\u001b[1;33m)\u001b[0m\u001b[1;33m\u001b[0m\u001b[1;33m\u001b[0m\u001b[0m\n",
      "\u001b[1;31mNameError\u001b[0m: name 'node' is not defined"
     ]
    }
   ],
   "source": [
    "#poblacion\n",
    "\n",
    "for i in range(1,len(datos)):\n",
    "    n=int(int(datos[i][1].split('.')[0])/1)\n",
    "    if(n<=5):\n",
    "        n=6\n",
    "    #aristas\n",
    "    m=1\n",
    "    #semilla+\n",
    "    seed=10\n",
    "    G=nx.barabasi_albert_graph(n, m, seed)\n",
    "    fechas=datos[0].copy()\n",
    "    fechas.pop(0)\n",
    "    fechas.pop(0)\n",
    "    #seteo de estados iniciales\n",
    "    for j in range(0,len(G)-1):\n",
    "        G.nodes[j]['infected']=0\n",
    "    \n",
    "    for j in range(0,len(fechas)-1):\n",
    "        print(\"fecha=\"+str(fechas[j])+\";contagiados=\"+str(datos[i][j+2][0])+\";muertos=\"+str(datos[i][j+2][1])+\";Comuna=\"+str(datos[i][0]))\n",
    "        listarandom(datos[i][j+2][0],datos[i][j+2][1],G)\n",
    "        break\n",
    "        #funcion para guardar del pato\n",
    "    #print(nodos)\n",
    "    break\n",
    "    #mantener nodo contagiado 11 dias"
   ]
  },
  {
   "cell_type": "code",
   "execution_count": 28,
   "metadata": {},
   "outputs": [
    {
     "data": {
      "text/plain": [
       "1996"
      ]
     },
     "execution_count": 28,
     "metadata": {},
     "output_type": "execute_result"
    }
   ],
   "source": []
  },
  {
   "cell_type": "code",
   "execution_count": 20,
   "metadata": {},
   "outputs": [
    {
     "ename": "SyntaxError",
     "evalue": "leading zeros in decimal integer literals are not permitted; use an 0o prefix for octal integers (<ipython-input-20-1ea682c908e4>, line 1)",
     "output_type": "error",
     "traceback": [
      "\u001b[1;36m  File \u001b[1;32m\"<ipython-input-20-1ea682c908e4>\"\u001b[1;36m, line \u001b[1;32m1\u001b[0m\n\u001b[1;33m    2020-03-30\u001b[0m\n\u001b[1;37m          ^\u001b[0m\n\u001b[1;31mSyntaxError\u001b[0m\u001b[1;31m:\u001b[0m leading zeros in decimal integer literals are not permitted; use an 0o prefix for octal integers\n"
     ]
    }
   ],
   "source": []
  },
  {
   "cell_type": "code",
   "execution_count": null,
   "metadata": {},
   "outputs": [],
   "source": []
  }
 ],
 "metadata": {
  "kernelspec": {
   "display_name": "Python 3",
   "language": "python",
   "name": "python3"
  },
  "language_info": {
   "codemirror_mode": {
    "name": "ipython",
    "version": 3
   },
   "file_extension": ".py",
   "mimetype": "text/x-python",
   "name": "python",
   "nbconvert_exporter": "python",
   "pygments_lexer": "ipython3",
   "version": "3.8.3"
  }
 },
 "nbformat": 4,
 "nbformat_minor": 4
}
