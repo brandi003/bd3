{
 "cells": [
  {
   "cell_type": "code",
   "execution_count": 58,
   "metadata": {},
   "outputs": [],
   "source": [
    "import networkx as nx\n",
    "import os\n",
    "from random import sample,choice\n",
    "from datetime import datetime\n",
    "from datetime import timedelta"
   ]
  },
  {
   "cell_type": "code",
   "execution_count": 44,
   "metadata": {},
   "outputs": [
    {
     "name": "stdout",
     "output_type": "stream",
     "text": [
      "[88]\n"
     ]
    }
   ],
   "source": [
    "contagiados=open(\"../repositorios github/Datos-COVID19/output/producto1/Covid-19.csv\",'r')\n",
    "muertes=open(\"../repositorios github/Datos-COVID19/output/producto38/CasosFallecidosPorComuna.csv\",'r')\n",
    "datos_contagiados=(contagiados.readlines())\n",
    "datos_muertes=(muertes.readlines())\n",
    "#en 5 empiezan las fechas\n",
    "#en 4 esta la poblacion\n",
    "datos=list()\n",
    "#cabecera\n",
    "separacion=datos_contagiados[0].split(',')\n",
    "aux=[separacion[2],str(separacion[4])]\n",
    "cont=0\n",
    "for i in separacion:\n",
    "    if(i=='Tasa\\n'):\n",
    "        break\n",
    "    if(cont<5):\n",
    "        cont=cont+1\n",
    "        continue\n",
    "    else:\n",
    "        aux.append(i)\n",
    "datos.append(aux)\n",
    "#contenido de la lista \n",
    "flag=True\n",
    "contador=0\n",
    "\n",
    "for j in datos_contagiados:\n",
    "    if(flag):\n",
    "        flag=False\n",
    "        contador=contador+1\n",
    "        continue\n",
    "    if(j.split(',')[4]==\"\"):\n",
    "        contador=contador+1\n",
    "        continue\n",
    "    else:\n",
    "        separacion=j.split(',')\n",
    "        aux=[separacion[2],str(separacion[4])]\n",
    "        cont=0\n",
    "        suma_contagiados=0\n",
    "        suma_muertes=0\n",
    "        for i in separacion:\n",
    "            if(i=='Tasa\\n'):\n",
    "                break\n",
    "            if(cont<5):\n",
    "                cont=cont+1\n",
    "                continue\n",
    "            else:\n",
    "                try:\n",
    "                    fecha=datos[0][cont-3]\n",
    "                except Exception as e:\n",
    "                    break\n",
    "                if(fecha=='Tasa\\n'):\n",
    "                    break\n",
    "                try:\n",
    "                    indice=datos_muertes[0].split(',').index(fecha)\n",
    "                    n_muertes=float(datos_muertes[contador].split(',')[indice])\n",
    "                except Exception as e:\n",
    "                    n_muertes=0\n",
    "                if(i==\"\"):\n",
    "                    i=0\n",
    "                valcontagio=float(i)-suma_contagiados\n",
    "                if(valcontagio<=0):\n",
    "                    valcontagio=0\n",
    "                val_muertes=n_muertes-suma_muertes\n",
    "                if(val_muertes<=0):\n",
    "                    val_muertes=0\n",
    "                recuperados=valcontagio-val_muertes\n",
    "                cont=cont+1\n",
    "                aux.append([int(valcontagio),int(val_muertes)])\n",
    "                suma_contagiados=float(i)\n",
    "                suma_muertes=n_muertes\n",
    "    contador=contador+1\n",
    "    aux.pop(len(aux)-1)\n",
    "    datos.append(aux)\n",
    "    \n",
    "\n",
    "#for i in datos:\n",
    "#    print(i)\n",
    "print(sample([x for x in range(0,100)],1))"
   ]
  },
  {
   "cell_type": "code",
   "execution_count": 78,
   "metadata": {},
   "outputs": [],
   "source": [
    "def listarandom(contagios,muertos,G,fecha):\n",
    "    nodos_contagiados=list()\n",
    "    #sacar contagios viejos y setear variable con contagiados\n",
    "    for i in G.nodes:\n",
    "        if (G.nodes[i]['infected']>0 and G.nodes[i]['infected']<11):\n",
    "            fecha_infeccion=datetime(int(G.nodes[i]['fecha_infeccion'].split(\"-\")[0]),int(G.nodes[i]['fecha_infeccion'].split(\"-\")[1]),int(G.nodes[i]['fecha_infeccion'].split(\"-\")[2]))\n",
    "            G.nodes[i]['infected']=int(str(datetime(int(fecha.split(\"-\")[0]),int(fecha.split(\"-\")[1]),int(fecha.split(\"-\")[2]))-fecha_infeccion).split(\" \")[0])\n",
    "            if(G.nodes[i]['infected']>=11):\n",
    "                G.nodes[i]['infected']=0\n",
    "                G.nodes[i]['fecha_infeccion']=\"\"\n",
    "                ##print(\"se reseteo un nodo\")\n",
    "            else:\n",
    "                nodos_contagiados.append(i)\n",
    "    #quitar muertos\n",
    "    for i in range(0,muertos):\n",
    "        eliminado=choice(nodos_contagiados)\n",
    "        G.remove_node(eliminado)\n",
    "        nodos_contagiados.pop(nodos_contagiados.index(eliminado))\n",
    "    #generar nuevos contagios\n",
    "    for i in range(0,contagios):\n",
    "        flag=True\n",
    "        while(flag):\n",
    "            nodo_a_infectar=choice([x for x in G.nodes])\n",
    "            if(nodo_a_infectar in nodos_contagiados):\n",
    "                flag=True\n",
    "            else:\n",
    "                G.nodes[nodo_a_infectar]['infected']=1\n",
    "                G.nodes[nodo_a_infectar]['fecha_infeccion']=fecha\n",
    "                nodos_contagiados.append(nodo_a_infectar)\n",
    "                flag=False\n",
    "    return G"
   ]
  },
  {
   "cell_type": "code",
   "execution_count": 79,
   "metadata": {},
   "outputs": [
    {
     "name": "stdout",
     "output_type": "stream",
     "text": [
      "fecha=2020-03-30;contagiados=6;muertos=0;Comuna=Arica infectados totales=6\n",
      "fecha=2020-04-01;contagiados=0;muertos=0;Comuna=Arica infectados totales=6\n",
      "fecha=2020-04-03;contagiados=6;muertos=0;Comuna=Arica infectados totales=12\n",
      "fecha=2020-04-06;contagiados=29;muertos=0;Comuna=Arica infectados totales=41\n",
      "fecha=2020-04-08;contagiados=22;muertos=0;Comuna=Arica infectados totales=63\n",
      "fecha=2020-04-10;contagiados=24;muertos=0;Comuna=Arica infectados totales=81\n",
      "fecha=2020-04-13;contagiados=28;muertos=0;Comuna=Arica infectados totales=109\n",
      "fecha=2020-04-15;contagiados=9;muertos=0;Comuna=Arica infectados totales=112\n",
      "fecha=2020-04-17;contagiados=10;muertos=0;Comuna=Arica infectados totales=93\n",
      "fecha=2020-04-20;contagiados=32;muertos=0;Comuna=Arica infectados totales=103\n",
      "fecha=2020-04-24;contagiados=58;muertos=0;Comuna=Arica infectados totales=109\n",
      "fecha=2020-04-27;contagiados=46;muertos=0;Comuna=Arica infectados totales=146\n",
      "fecha=2020-05-01;contagiados=27;muertos=0;Comuna=Arica infectados totales=131\n",
      "fecha=2020-05-04;contagiados=13;muertos=0;Comuna=Arica infectados totales=144\n",
      "fecha=2020-05-08;contagiados=18;muertos=0;Comuna=Arica infectados totales=58\n",
      "fecha=2020-05-11;contagiados=25;muertos=0;Comuna=Arica infectados totales=83\n",
      "fecha=2020-05-15;contagiados=18;muertos=0;Comuna=Arica infectados totales=61\n",
      "fecha=2020-05-18;contagiados=34;muertos=0;Comuna=Arica infectados totales=95\n",
      "fecha=2020-05-22;contagiados=72;muertos=0;Comuna=Arica infectados totales=124\n",
      "fecha=2020-05-25;contagiados=48;muertos=0;Comuna=Arica infectados totales=172\n",
      "fecha=2020-05-29;contagiados=71;muertos=0;Comuna=Arica infectados totales=191\n",
      "fecha=2020-06-01;contagiados=57;muertos=0;Comuna=Arica infectados totales=248\n",
      "fecha=2020-06-05;contagiados=153;muertos=0;Comuna=Arica infectados totales=281\n",
      "fecha=2020-06-08;contagiados=98;muertos=0;Comuna=Arica infectados totales=379\n",
      "fecha=2020-06-12;contagiados=142;muertos=10;Comuna=Arica infectados totales=383\n",
      "fecha=2020-06-15;contagiados=130;muertos=1;Comuna=Arica infectados totales=512\n",
      "fecha=2020-06-19;contagiados=195;muertos=1;Comuna=Arica infectados totales=465\n",
      "fecha=2020-06-23;contagiados=162;muertos=0;Comuna=Arica infectados totales=486\n",
      "fecha=2020-06-28;contagiados=225;muertos=10;Comuna=Arica infectados totales=572\n",
      "fecha=2020-07-01;contagiados=129;muertos=0;Comuna=Arica infectados totales=507\n",
      "fecha=2020-07-05;contagiados=252;muertos=1;Comuna=Arica infectados totales=605\n",
      "fecha=2020-07-10;contagiados=325;muertos=2;Comuna=Arica infectados totales=704\n",
      "fecha=2020-07-13;contagiados=257;muertos=4;Comuna=Arica infectados totales=828\n",
      "fecha=2020-07-17;contagiados=402;muertos=4;Comuna=Arica infectados totales=977\n",
      "fecha=2020-07-20;contagiados=249;muertos=6;Comuna=Arica infectados totales=1220\n",
      "fecha=2020-07-24;contagiados=510;muertos=4;Comuna=Arica infectados totales=1155\n",
      "fecha=2020-07-27;contagiados=329;muertos=9;Comuna=Arica infectados totales=1475\n",
      "fecha=2020-07-31;contagiados=425;muertos=7;Comuna=Arica infectados totales=1253\n",
      "fecha=2020-08-03;contagiados=238;muertos=10;Comuna=Arica infectados totales=1481\n",
      "fecha=2020-08-07;contagiados=346;muertos=6;Comuna=Arica infectados totales=997\n",
      "fecha=2020-08-10;contagiados=323;muertos=4;Comuna=Arica infectados totales=1316\n",
      "fecha=2020-08-14;contagiados=364;muertos=2;Comuna=Arica infectados totales=1028\n",
      "fecha=2020-08-17;contagiados=224;muertos=5;Comuna=Arica infectados totales=1247\n",
      "fecha=2020-08-21;contagiados=243;muertos=10;Comuna=Arica infectados totales=818\n",
      "fecha=2020-08-24;contagiados=203;muertos=5;Comuna=Arica infectados totales=1016\n",
      "fecha=2020-08-28;contagiados=206;muertos=5;Comuna=Arica infectados totales=646\n",
      "fecha=2020-08-31;contagiados=186;muertos=2;Comuna=Arica infectados totales=830\n",
      "fecha=2020-09-04;contagiados=203;muertos=7;Comuna=Arica infectados totales=587\n",
      "fecha=2020-09-07;contagiados=172;muertos=5;Comuna=Arica infectados totales=754\n",
      "fecha=2020-09-11;contagiados=159;muertos=7;Comuna=Arica infectados totales=526\n",
      "fecha=2020-09-14;contagiados=143;muertos=7;Comuna=Arica infectados totales=662\n",
      "fecha=2020-09-18;contagiados=173;muertos=3;Comuna=Arica infectados totales=470\n",
      "fecha=2020-09-21;contagiados=129;muertos=3;Comuna=Arica infectados totales=596\n",
      "fecha=2020-09-25;contagiados=186;muertos=7;Comuna=Arica infectados totales=481\n",
      "fecha=2020-09-28;contagiados=198;muertos=0;Comuna=Arica infectados totales=679\n",
      "fecha=2020-10-02;contagiados=265;muertos=5;Comuna=Arica infectados totales=644\n",
      "fecha=2020-10-05;contagiados=175;muertos=4;Comuna=Arica infectados totales=815\n",
      "fecha=2020-10-09;contagiados=224;muertos=2;Comuna=Arica infectados totales=660\n",
      "fecha=2020-10-12;contagiados=142;muertos=2;Comuna=Arica infectados totales=800\n",
      "fecha=2020-10-16;contagiados=205;muertos=6;Comuna=Arica infectados totales=565\n",
      "fecha=2020-10-19;contagiados=129;muertos=6;Comuna=Arica infectados totales=688\n",
      "fecha=2020-10-24;contagiados=207;muertos=5;Comuna=Arica infectados totales=535\n",
      "fecha=2020-10-26;contagiados=84;muertos=1;Comuna=Arica infectados totales=618\n",
      "fecha=2020-10-30;contagiados=125;muertos=4;Comuna=Arica infectados totales=411\n",
      "fecha=2020-11-02;contagiados=86;muertos=9;Comuna=Arica infectados totales=488\n",
      "fecha=2020-11-06;contagiados=129;muertos=5;Comuna=Arica infectados totales=334\n",
      "fecha=2020-11-09;contagiados=105;muertos=1;Comuna=Arica infectados totales=438\n"
     ]
    }
   ],
   "source": [
    "#poblacion\n",
    "\n",
    "for i in range(1,len(datos)):\n",
    "    n=int(int(datos[i][1].split('.')[0])/1)\n",
    "    if(n<=5):\n",
    "        n=6\n",
    "    #aristas\n",
    "    m=1\n",
    "    #semilla+\n",
    "    seed=10\n",
    "    G=nx.barabasi_albert_graph(n, m, seed)\n",
    "    fechas=datos[0].copy()\n",
    "    fechas.pop(0)\n",
    "    fechas.pop(0)\n",
    "    #seteo de estados iniciales\n",
    "    for j in G.nodes:\n",
    "        G.nodes[j]['infected']=0\n",
    "        G.nodes[j]['fecha_infeccion']=\"\"\n",
    "    for j in range(0,len(fechas)-1):\n",
    "        G_prediccion=G.\n",
    "        G=listarandom(datos[i][j+2][0],datos[i][j+2][1],G,fechas[j])\n",
    "        G_prediccion\n",
    "        infectados=0\n",
    "        for k in G.nodes:\n",
    "            if(G.nodes[k]['infected']>0 and G.nodes[k]['infected']<11):\n",
    "                infectados=infectados+1\n",
    "        print(\"fecha=\"+str(fechas[j])+\";contagiados=\"+str(datos[i][j+2][0])+\";muertos=\"+str(datos[i][j+2][1])+\";Comuna=\"+str(datos[i][0])+\" infectados totales=\"+str(infectados))        \n",
    "        #funcion para guardar del pato\n",
    "    break\n",
    "    #mantener nodo contagiado 11 dias"
   ]
  },
  {
   "cell_type": "code",
   "execution_count": null,
   "metadata": {},
   "outputs": [],
   "source": []
  },
  {
   "cell_type": "code",
   "execution_count": null,
   "metadata": {},
   "outputs": [],
   "source": []
  },
  {
   "cell_type": "code",
   "execution_count": 53,
   "metadata": {},
   "outputs": [
    {
     "name": "stdout",
     "output_type": "stream",
     "text": [
      "2\n"
     ]
    }
   ],
   "source": [
    "2020-11-09"
   ]
  },
  {
   "cell_type": "code",
   "execution_count": 67,
   "metadata": {},
   "outputs": [
    {
     "name": "stdout",
     "output_type": "stream",
     "text": [
      "51\n"
     ]
    }
   ],
   "source": [
    "date1 = datetime(2020,11,9)\n",
    "date2 = datetime(2020,12,30)\n",
    "print(str((date2-date1)).split(\" \")[0])"
   ]
  },
  {
   "cell_type": "code",
   "execution_count": null,
   "metadata": {},
   "outputs": [],
   "source": []
  }
 ],
 "metadata": {
  "kernelspec": {
   "display_name": "Python 3",
   "language": "python",
   "name": "python3"
  },
  "language_info": {
   "codemirror_mode": {
    "name": "ipython",
    "version": 3
   },
   "file_extension": ".py",
   "mimetype": "text/x-python",
   "name": "python",
   "nbconvert_exporter": "python",
   "pygments_lexer": "ipython3",
   "version": "3.8.3"
  }
 },
 "nbformat": 4,
 "nbformat_minor": 4
}
